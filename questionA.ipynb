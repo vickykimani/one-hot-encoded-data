{
  "nbformat": 4,
  "nbformat_minor": 0,
  "metadata": {
    "colab": {
      "name": "questionA.ipynb",
      "provenance": []
    },
    "kernelspec": {
      "name": "python3",
      "display_name": "Python 3"
    },
    "language_info": {
      "name": "python"
    }
  },
  "cells": [
    {
      "cell_type": "code",
      "execution_count": 1,
      "metadata": {
        "id": "d_6N9lo4sX7r"
      },
      "outputs": [],
      "source": [
        "import numpy as np\n",
        "import pandas as pd"
      ]
    },
    {
      "cell_type": "code",
      "source": [
        "from numpy import array\n",
        "from sklearn.preprocessing import Normalizer"
      ],
      "metadata": {
        "id": "y0gYvyj0wasa"
      },
      "execution_count": 2,
      "outputs": []
    },
    {
      "cell_type": "code",
      "source": [
        "data={'Duration (In Minutes)':[200, 300, 90, 120, 1000, 800, 85, 300, 400], \n",
        "        'Mood':['Dark', 'Semi-Dark', 'Bright', 'Semi-Dark', 'Bright', 'Bright', 'Bright', 'Bright', 'Dark'], \n",
        "        'Age Restriction':['Adult', 'Adult', 'Family', 'Adult', 'Family', 'Adult', 'Adult', 'Children', 'Adult'], \n",
        "        'Movie Rating':[9.8, 7.1, 8.5, 9.0, 6.3, 4.8, 7.6, 2.8, 9.0]}"
      ],
      "metadata": {
        "id": "R7Y6k6m0spHm"
      },
      "execution_count": 3,
      "outputs": []
    },
    {
      "cell_type": "code",
      "source": [
        "dataset=pd.DataFrame(data, index=['Money Heist', 'Prison Break', 'Overcomer', 'Mosul', 'Selina', '24', 'Extraction', 'Boss Baby', 'Caliphate'])"
      ],
      "metadata": {
        "id": "pV80DBKewDlv"
      },
      "execution_count": 4,
      "outputs": []
    },
    {
      "cell_type": "code",
      "source": [
        "dataset"
      ],
      "metadata": {
        "colab": {
          "base_uri": "https://localhost:8080/",
          "height": 332
        },
        "id": "m_8YFFiBwuCn",
        "outputId": "931cbde2-29ee-4ca5-ea97-1be7ddfad896"
      },
      "execution_count": 5,
      "outputs": [
        {
          "output_type": "execute_result",
          "data": {
            "text/html": [
              "\n",
              "  <div id=\"df-cf8dd6e5-3cf8-459b-905f-e6dcc0807001\">\n",
              "    <div class=\"colab-df-container\">\n",
              "      <div>\n",
              "<style scoped>\n",
              "    .dataframe tbody tr th:only-of-type {\n",
              "        vertical-align: middle;\n",
              "    }\n",
              "\n",
              "    .dataframe tbody tr th {\n",
              "        vertical-align: top;\n",
              "    }\n",
              "\n",
              "    .dataframe thead th {\n",
              "        text-align: right;\n",
              "    }\n",
              "</style>\n",
              "<table border=\"1\" class=\"dataframe\">\n",
              "  <thead>\n",
              "    <tr style=\"text-align: right;\">\n",
              "      <th></th>\n",
              "      <th>Duration (In Minutes)</th>\n",
              "      <th>Mood</th>\n",
              "      <th>Age Restriction</th>\n",
              "      <th>Movie Rating</th>\n",
              "    </tr>\n",
              "  </thead>\n",
              "  <tbody>\n",
              "    <tr>\n",
              "      <th>Money Heist</th>\n",
              "      <td>200</td>\n",
              "      <td>Dark</td>\n",
              "      <td>Adult</td>\n",
              "      <td>9.8</td>\n",
              "    </tr>\n",
              "    <tr>\n",
              "      <th>Prison Break</th>\n",
              "      <td>300</td>\n",
              "      <td>Semi-Dark</td>\n",
              "      <td>Adult</td>\n",
              "      <td>7.1</td>\n",
              "    </tr>\n",
              "    <tr>\n",
              "      <th>Overcomer</th>\n",
              "      <td>90</td>\n",
              "      <td>Bright</td>\n",
              "      <td>Family</td>\n",
              "      <td>8.5</td>\n",
              "    </tr>\n",
              "    <tr>\n",
              "      <th>Mosul</th>\n",
              "      <td>120</td>\n",
              "      <td>Semi-Dark</td>\n",
              "      <td>Adult</td>\n",
              "      <td>9.0</td>\n",
              "    </tr>\n",
              "    <tr>\n",
              "      <th>Selina</th>\n",
              "      <td>1000</td>\n",
              "      <td>Bright</td>\n",
              "      <td>Family</td>\n",
              "      <td>6.3</td>\n",
              "    </tr>\n",
              "    <tr>\n",
              "      <th>24</th>\n",
              "      <td>800</td>\n",
              "      <td>Bright</td>\n",
              "      <td>Adult</td>\n",
              "      <td>4.8</td>\n",
              "    </tr>\n",
              "    <tr>\n",
              "      <th>Extraction</th>\n",
              "      <td>85</td>\n",
              "      <td>Bright</td>\n",
              "      <td>Adult</td>\n",
              "      <td>7.6</td>\n",
              "    </tr>\n",
              "    <tr>\n",
              "      <th>Boss Baby</th>\n",
              "      <td>300</td>\n",
              "      <td>Bright</td>\n",
              "      <td>Children</td>\n",
              "      <td>2.8</td>\n",
              "    </tr>\n",
              "    <tr>\n",
              "      <th>Caliphate</th>\n",
              "      <td>400</td>\n",
              "      <td>Dark</td>\n",
              "      <td>Adult</td>\n",
              "      <td>9.0</td>\n",
              "    </tr>\n",
              "  </tbody>\n",
              "</table>\n",
              "</div>\n",
              "      <button class=\"colab-df-convert\" onclick=\"convertToInteractive('df-cf8dd6e5-3cf8-459b-905f-e6dcc0807001')\"\n",
              "              title=\"Convert this dataframe to an interactive table.\"\n",
              "              style=\"display:none;\">\n",
              "        \n",
              "  <svg xmlns=\"http://www.w3.org/2000/svg\" height=\"24px\"viewBox=\"0 0 24 24\"\n",
              "       width=\"24px\">\n",
              "    <path d=\"M0 0h24v24H0V0z\" fill=\"none\"/>\n",
              "    <path d=\"M18.56 5.44l.94 2.06.94-2.06 2.06-.94-2.06-.94-.94-2.06-.94 2.06-2.06.94zm-11 1L8.5 8.5l.94-2.06 2.06-.94-2.06-.94L8.5 2.5l-.94 2.06-2.06.94zm10 10l.94 2.06.94-2.06 2.06-.94-2.06-.94-.94-2.06-.94 2.06-2.06.94z\"/><path d=\"M17.41 7.96l-1.37-1.37c-.4-.4-.92-.59-1.43-.59-.52 0-1.04.2-1.43.59L10.3 9.45l-7.72 7.72c-.78.78-.78 2.05 0 2.83L4 21.41c.39.39.9.59 1.41.59.51 0 1.02-.2 1.41-.59l7.78-7.78 2.81-2.81c.8-.78.8-2.07 0-2.86zM5.41 20L4 18.59l7.72-7.72 1.47 1.35L5.41 20z\"/>\n",
              "  </svg>\n",
              "      </button>\n",
              "      \n",
              "  <style>\n",
              "    .colab-df-container {\n",
              "      display:flex;\n",
              "      flex-wrap:wrap;\n",
              "      gap: 12px;\n",
              "    }\n",
              "\n",
              "    .colab-df-convert {\n",
              "      background-color: #E8F0FE;\n",
              "      border: none;\n",
              "      border-radius: 50%;\n",
              "      cursor: pointer;\n",
              "      display: none;\n",
              "      fill: #1967D2;\n",
              "      height: 32px;\n",
              "      padding: 0 0 0 0;\n",
              "      width: 32px;\n",
              "    }\n",
              "\n",
              "    .colab-df-convert:hover {\n",
              "      background-color: #E2EBFA;\n",
              "      box-shadow: 0px 1px 2px rgba(60, 64, 67, 0.3), 0px 1px 3px 1px rgba(60, 64, 67, 0.15);\n",
              "      fill: #174EA6;\n",
              "    }\n",
              "\n",
              "    [theme=dark] .colab-df-convert {\n",
              "      background-color: #3B4455;\n",
              "      fill: #D2E3FC;\n",
              "    }\n",
              "\n",
              "    [theme=dark] .colab-df-convert:hover {\n",
              "      background-color: #434B5C;\n",
              "      box-shadow: 0px 1px 3px 1px rgba(0, 0, 0, 0.15);\n",
              "      filter: drop-shadow(0px 1px 2px rgba(0, 0, 0, 0.3));\n",
              "      fill: #FFFFFF;\n",
              "    }\n",
              "  </style>\n",
              "\n",
              "      <script>\n",
              "        const buttonEl =\n",
              "          document.querySelector('#df-cf8dd6e5-3cf8-459b-905f-e6dcc0807001 button.colab-df-convert');\n",
              "        buttonEl.style.display =\n",
              "          google.colab.kernel.accessAllowed ? 'block' : 'none';\n",
              "\n",
              "        async function convertToInteractive(key) {\n",
              "          const element = document.querySelector('#df-cf8dd6e5-3cf8-459b-905f-e6dcc0807001');\n",
              "          const dataTable =\n",
              "            await google.colab.kernel.invokeFunction('convertToInteractive',\n",
              "                                                     [key], {});\n",
              "          if (!dataTable) return;\n",
              "\n",
              "          const docLinkHtml = 'Like what you see? Visit the ' +\n",
              "            '<a target=\"_blank\" href=https://colab.research.google.com/notebooks/data_table.ipynb>data table notebook</a>'\n",
              "            + ' to learn more about interactive tables.';\n",
              "          element.innerHTML = '';\n",
              "          dataTable['output_type'] = 'display_data';\n",
              "          await google.colab.output.renderOutput(dataTable, element);\n",
              "          const docLink = document.createElement('div');\n",
              "          docLink.innerHTML = docLinkHtml;\n",
              "          element.appendChild(docLink);\n",
              "        }\n",
              "      </script>\n",
              "    </div>\n",
              "  </div>\n",
              "  "
            ],
            "text/plain": [
              "              Duration (In Minutes)       Mood Age Restriction  Movie Rating\n",
              "Money Heist                     200       Dark           Adult           9.8\n",
              "Prison Break                    300  Semi-Dark           Adult           7.1\n",
              "Overcomer                        90     Bright          Family           8.5\n",
              "Mosul                           120  Semi-Dark           Adult           9.0\n",
              "Selina                         1000     Bright          Family           6.3\n",
              "24                              800     Bright           Adult           4.8\n",
              "Extraction                       85     Bright           Adult           7.6\n",
              "Boss Baby                       300     Bright        Children           2.8\n",
              "Caliphate                       400       Dark           Adult           9.0"
            ]
          },
          "metadata": {},
          "execution_count": 5
        }
      ]
    },
    {
      "cell_type": "code",
      "source": [
        "print(dataset['Mood'].unique())"
      ],
      "metadata": {
        "colab": {
          "base_uri": "https://localhost:8080/"
        },
        "id": "eQoTzQJisz_u",
        "outputId": "fc3f2f46-7424-414f-c017-d01806891d63"
      },
      "execution_count": 6,
      "outputs": [
        {
          "output_type": "stream",
          "name": "stdout",
          "text": [
            "['Dark' 'Semi-Dark' 'Bright']\n"
          ]
        }
      ]
    },
    {
      "cell_type": "code",
      "source": [
        "dataset['Mood'].value_counts()"
      ],
      "metadata": {
        "colab": {
          "base_uri": "https://localhost:8080/"
        },
        "id": "B_0Jm0cZtKke",
        "outputId": "87d6435e-d409-445a-8ef5-566fa8aae2ea"
      },
      "execution_count": 7,
      "outputs": [
        {
          "output_type": "execute_result",
          "data": {
            "text/plain": [
              "Bright       5\n",
              "Dark         2\n",
              "Semi-Dark    2\n",
              "Name: Mood, dtype: int64"
            ]
          },
          "metadata": {},
          "execution_count": 7
        }
      ]
    },
    {
      "cell_type": "code",
      "source": [
        "one_hot_encoded_data = pd.get_dummies(dataset, columns=['Mood'])"
      ],
      "metadata": {
        "id": "LB0D4FRUtdc7"
      },
      "execution_count": 8,
      "outputs": []
    },
    {
      "cell_type": "code",
      "source": [
        "print(one_hot_encoded_data)"
      ],
      "metadata": {
        "colab": {
          "base_uri": "https://localhost:8080/"
        },
        "id": "uMuRUlOSt7mN",
        "outputId": "d70e0897-fc62-4521-fd0d-c951adeff797"
      },
      "execution_count": 9,
      "outputs": [
        {
          "output_type": "stream",
          "name": "stdout",
          "text": [
            "              Duration (In Minutes) Age Restriction  ...  Mood_Dark  Mood_Semi-Dark\n",
            "Money Heist                     200           Adult  ...          1               0\n",
            "Prison Break                    300           Adult  ...          0               1\n",
            "Overcomer                        90          Family  ...          0               0\n",
            "Mosul                           120           Adult  ...          0               1\n",
            "Selina                         1000          Family  ...          0               0\n",
            "24                              800           Adult  ...          0               0\n",
            "Extraction                       85           Adult  ...          0               0\n",
            "Boss Baby                       300        Children  ...          0               0\n",
            "Caliphate                       400           Adult  ...          1               0\n",
            "\n",
            "[9 rows x 6 columns]\n"
          ]
        }
      ]
    }
  ]
}